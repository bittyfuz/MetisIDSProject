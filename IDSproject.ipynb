{
 "cells": [
  {
   "cell_type": "markdown",
   "metadata": {},
   "source": [
    "# Intro to Data Science Course Project\n",
    "## Predicting Solar Flares"
   ]
  },
  {
   "cell_type": "code",
   "execution_count": 1,
   "metadata": {
    "collapsed": false
   },
   "outputs": [
    {
     "name": "stderr",
     "output_type": "stream",
     "text": [
      "/Users/brittanyfuzia/anaconda2/lib/python2.7/site-packages/sklearn/cross_validation.py:41: DeprecationWarning: This module was deprecated in version 0.18 in favor of the model_selection module into which all the refactored classes and functions are moved. Also note that the interface of the new CV iterators are different from that of this module. This module will be removed in 0.20.\n",
      "  \"This module will be removed in 0.20.\", DeprecationWarning)\n"
     ]
    }
   ],
   "source": [
    "#packages\n",
    "from pylab import *\n",
    "import pandas as pd\n",
    "import seaborn as sns\n",
    "from sklearn.linear_model import LogisticRegression\n",
    "from sklearn.cross_validation import train_test_split\n",
    "from sklearn import metrics\n",
    "from sklearn.ensemble import RandomForestClassifier\n",
    "from sklearn import preprocessing\n",
    "%matplotlib inline"
   ]
  },
  {
   "cell_type": "markdown",
   "metadata": {},
   "source": [
    "# The data set includes conditions in an area on the sun during 24 hours and how many solar flares of different classes occured. There aren't very many observations of solar flares (compared to no solar flare) so I'm only going to attempt to predict whether a solar flare will happen, and not which class of flare it will be.\n",
    "\n",
    "\n",
    "[Link to site where I grabbed the dataset](http://archive.ics.uci.edu/ml/datasets/Solar+Flare)\n",
    "\n",
    "[Data Set](flare.data2.txt)\n",
    "\n",
    "[Description of Data Set](flare.names.txt)\n",
    "\n",
    "## The features are:\n",
    "* spot_class: Classification for configuration of group of sunspots\n",
    "* l_spot_size: Classification for the largest sunspot in the group\n",
    "* spot_dist: Classification for the distribution of the sunspots\n",
    " * spot_class, l_spot_size, spot_dist classification letters aren't ordered in an intuitive way, here's an image to desribe them \n",
    " \n",
    " ![alt text](https://www.spaceweatherlive.com/images/help/zonnevlekken_malde/zonnevlekclassificatie.jpg)\n",
    "* activity: How has the sunspot activity changed? (1/reduced, 2/unchanged)\n",
    "* evolution: How have the sunspots evolved? (1/decay, 2/no growth, 3/growth)\n",
    "* prev_activity: Were there any large flares in the last 24 hours? (1 = nothing as big an an M1, 2 = one M1, 3 = more than one M1)\n",
    "* hist_complex: Has this region been complex? (1/yes, 2/no)\n",
    "* hist_complex_recent: Did this region become complex on this pass across sun's disk? (1/yes, 2/no)\n",
    "* area: Area of sunspots (1/small, 2/large)\n",
    "* l_area: Area of largest spot (1 means <=5, 2 means >5)\n"
   ]
  },
  {
   "cell_type": "code",
   "execution_count": 30,
   "metadata": {
    "collapsed": false
   },
   "outputs": [
    {
     "data": {
      "text/html": [
       "<div>\n",
       "<style>\n",
       "    .dataframe thead tr:only-child th {\n",
       "        text-align: right;\n",
       "    }\n",
       "\n",
       "    .dataframe thead th {\n",
       "        text-align: left;\n",
       "    }\n",
       "\n",
       "    .dataframe tbody tr th {\n",
       "        vertical-align: top;\n",
       "    }\n",
       "</style>\n",
       "<table border=\"1\" class=\"dataframe\">\n",
       "  <thead>\n",
       "    <tr style=\"text-align: right;\">\n",
       "      <th></th>\n",
       "      <th>spot_class</th>\n",
       "      <th>l_spot_size</th>\n",
       "      <th>spot_dist</th>\n",
       "      <th>activity</th>\n",
       "      <th>evolution</th>\n",
       "      <th>prev_activity</th>\n",
       "      <th>hist_complex</th>\n",
       "      <th>hist_complex_recent</th>\n",
       "      <th>area</th>\n",
       "      <th>l_area</th>\n",
       "      <th>c_class</th>\n",
       "      <th>m_class</th>\n",
       "      <th>x_class</th>\n",
       "    </tr>\n",
       "  </thead>\n",
       "  <tbody>\n",
       "    <tr>\n",
       "      <th>0</th>\n",
       "      <td>H</td>\n",
       "      <td>A</td>\n",
       "      <td>X</td>\n",
       "      <td>1</td>\n",
       "      <td>3</td>\n",
       "      <td>1</td>\n",
       "      <td>1</td>\n",
       "      <td>1</td>\n",
       "      <td>1</td>\n",
       "      <td>1</td>\n",
       "      <td>0</td>\n",
       "      <td>0</td>\n",
       "      <td>0</td>\n",
       "    </tr>\n",
       "    <tr>\n",
       "      <th>1</th>\n",
       "      <td>D</td>\n",
       "      <td>R</td>\n",
       "      <td>O</td>\n",
       "      <td>1</td>\n",
       "      <td>3</td>\n",
       "      <td>1</td>\n",
       "      <td>1</td>\n",
       "      <td>2</td>\n",
       "      <td>1</td>\n",
       "      <td>1</td>\n",
       "      <td>0</td>\n",
       "      <td>0</td>\n",
       "      <td>0</td>\n",
       "    </tr>\n",
       "    <tr>\n",
       "      <th>2</th>\n",
       "      <td>C</td>\n",
       "      <td>S</td>\n",
       "      <td>O</td>\n",
       "      <td>1</td>\n",
       "      <td>3</td>\n",
       "      <td>1</td>\n",
       "      <td>1</td>\n",
       "      <td>2</td>\n",
       "      <td>1</td>\n",
       "      <td>1</td>\n",
       "      <td>0</td>\n",
       "      <td>0</td>\n",
       "      <td>0</td>\n",
       "    </tr>\n",
       "    <tr>\n",
       "      <th>3</th>\n",
       "      <td>H</td>\n",
       "      <td>R</td>\n",
       "      <td>X</td>\n",
       "      <td>1</td>\n",
       "      <td>2</td>\n",
       "      <td>1</td>\n",
       "      <td>1</td>\n",
       "      <td>1</td>\n",
       "      <td>1</td>\n",
       "      <td>1</td>\n",
       "      <td>0</td>\n",
       "      <td>0</td>\n",
       "      <td>0</td>\n",
       "    </tr>\n",
       "    <tr>\n",
       "      <th>4</th>\n",
       "      <td>H</td>\n",
       "      <td>S</td>\n",
       "      <td>X</td>\n",
       "      <td>1</td>\n",
       "      <td>1</td>\n",
       "      <td>1</td>\n",
       "      <td>1</td>\n",
       "      <td>2</td>\n",
       "      <td>1</td>\n",
       "      <td>1</td>\n",
       "      <td>0</td>\n",
       "      <td>0</td>\n",
       "      <td>0</td>\n",
       "    </tr>\n",
       "  </tbody>\n",
       "</table>\n",
       "</div>"
      ],
      "text/plain": [
       "  spot_class l_spot_size spot_dist  activity  evolution  prev_activity  \\\n",
       "0          H           A         X         1          3              1   \n",
       "1          D           R         O         1          3              1   \n",
       "2          C           S         O         1          3              1   \n",
       "3          H           R         X         1          2              1   \n",
       "4          H           S         X         1          1              1   \n",
       "\n",
       "   hist_complex  hist_complex_recent  area  l_area  c_class  m_class  x_class  \n",
       "0             1                    1     1       1        0        0        0  \n",
       "1             1                    2     1       1        0        0        0  \n",
       "2             1                    2     1       1        0        0        0  \n",
       "3             1                    1     1       1        0        0        0  \n",
       "4             1                    2     1       1        0        0        0  "
      ]
     },
     "execution_count": 30,
     "metadata": {},
     "output_type": "execute_result"
    }
   ],
   "source": [
    "#open that data up\n",
    "#there is no header, so create column names\n",
    "columns = ['spot_class','l_spot_size','spot_dist','activity','evolution','prev_activity','hist_complex','hist_complex_recent','area','l_area','c_class','m_class','x_class']\n",
    "sfdf = pd.read_table('flare.data2.txt', delim_whitespace=1, skiprows=1, header=None, names=columns)\n",
    "sfdf.head()"
   ]
  },
  {
   "cell_type": "code",
   "execution_count": 3,
   "metadata": {},
   "outputs": [
    {
     "data": {
      "text/html": [
       "<div>\n",
       "<style>\n",
       "    .dataframe thead tr:only-child th {\n",
       "        text-align: right;\n",
       "    }\n",
       "\n",
       "    .dataframe thead th {\n",
       "        text-align: left;\n",
       "    }\n",
       "\n",
       "    .dataframe tbody tr th {\n",
       "        vertical-align: top;\n",
       "    }\n",
       "</style>\n",
       "<table border=\"1\" class=\"dataframe\">\n",
       "  <thead>\n",
       "    <tr style=\"text-align: right;\">\n",
       "      <th></th>\n",
       "      <th>spot_class</th>\n",
       "      <th>l_spot_size</th>\n",
       "      <th>spot_dist</th>\n",
       "      <th>activity</th>\n",
       "      <th>evolution</th>\n",
       "      <th>prev_activity</th>\n",
       "      <th>hist_complex</th>\n",
       "      <th>hist_complex_recent</th>\n",
       "      <th>area</th>\n",
       "      <th>l_area</th>\n",
       "      <th>c_class</th>\n",
       "      <th>m_class</th>\n",
       "      <th>x_class</th>\n",
       "    </tr>\n",
       "  </thead>\n",
       "  <tbody>\n",
       "    <tr>\n",
       "      <th>0</th>\n",
       "      <td>5</td>\n",
       "      <td>0</td>\n",
       "      <td>3</td>\n",
       "      <td>1</td>\n",
       "      <td>3</td>\n",
       "      <td>1</td>\n",
       "      <td>1</td>\n",
       "      <td>1</td>\n",
       "      <td>1</td>\n",
       "      <td>1</td>\n",
       "      <td>0</td>\n",
       "      <td>0</td>\n",
       "      <td>0</td>\n",
       "    </tr>\n",
       "    <tr>\n",
       "      <th>1</th>\n",
       "      <td>2</td>\n",
       "      <td>3</td>\n",
       "      <td>2</td>\n",
       "      <td>1</td>\n",
       "      <td>3</td>\n",
       "      <td>1</td>\n",
       "      <td>1</td>\n",
       "      <td>2</td>\n",
       "      <td>1</td>\n",
       "      <td>1</td>\n",
       "      <td>0</td>\n",
       "      <td>0</td>\n",
       "      <td>0</td>\n",
       "    </tr>\n",
       "    <tr>\n",
       "      <th>2</th>\n",
       "      <td>1</td>\n",
       "      <td>4</td>\n",
       "      <td>2</td>\n",
       "      <td>1</td>\n",
       "      <td>3</td>\n",
       "      <td>1</td>\n",
       "      <td>1</td>\n",
       "      <td>2</td>\n",
       "      <td>1</td>\n",
       "      <td>1</td>\n",
       "      <td>0</td>\n",
       "      <td>0</td>\n",
       "      <td>0</td>\n",
       "    </tr>\n",
       "    <tr>\n",
       "      <th>3</th>\n",
       "      <td>5</td>\n",
       "      <td>3</td>\n",
       "      <td>3</td>\n",
       "      <td>1</td>\n",
       "      <td>2</td>\n",
       "      <td>1</td>\n",
       "      <td>1</td>\n",
       "      <td>1</td>\n",
       "      <td>1</td>\n",
       "      <td>1</td>\n",
       "      <td>0</td>\n",
       "      <td>0</td>\n",
       "      <td>0</td>\n",
       "    </tr>\n",
       "    <tr>\n",
       "      <th>4</th>\n",
       "      <td>5</td>\n",
       "      <td>4</td>\n",
       "      <td>3</td>\n",
       "      <td>1</td>\n",
       "      <td>1</td>\n",
       "      <td>1</td>\n",
       "      <td>1</td>\n",
       "      <td>2</td>\n",
       "      <td>1</td>\n",
       "      <td>1</td>\n",
       "      <td>0</td>\n",
       "      <td>0</td>\n",
       "      <td>0</td>\n",
       "    </tr>\n",
       "  </tbody>\n",
       "</table>\n",
       "</div>"
      ],
      "text/plain": [
       "   spot_class  l_spot_size  spot_dist  activity  evolution  prev_activity  \\\n",
       "0           5            0          3         1          3              1   \n",
       "1           2            3          2         1          3              1   \n",
       "2           1            4          2         1          3              1   \n",
       "3           5            3          3         1          2              1   \n",
       "4           5            4          3         1          1              1   \n",
       "\n",
       "   hist_complex  hist_complex_recent  area  l_area  c_class  m_class  x_class  \n",
       "0             1                    1     1       1        0        0        0  \n",
       "1             1                    2     1       1        0        0        0  \n",
       "2             1                    2     1       1        0        0        0  \n",
       "3             1                    1     1       1        0        0        0  \n",
       "4             1                    2     1       1        0        0        0  "
      ]
     },
     "execution_count": 3,
     "metadata": {},
     "output_type": "execute_result"
    }
   ],
   "source": [
    "#encode data with labeled categories\n",
    "cols2encode = ['spot_class','l_spot_size','spot_dist']\n",
    "encodedict = {}\n",
    "le = preprocessing.LabelEncoder()\n",
    "for cc in cols2encode:\n",
    "    le.fit(sfdf[cc])\n",
    "    encodedict[cc] = dict(zip(le.transform(le.classes_),le.classes_))\n",
    "    sfdf[cc] = le.transform(sfdf[cc])\n",
    "\n",
    "sfdf.head()"
   ]
  },
  {
   "cell_type": "code",
   "execution_count": 4,
   "metadata": {},
   "outputs": [
    {
     "data": {
      "text/plain": [
       "{'l_spot_size': {0: 'A', 1: 'H', 2: 'K', 3: 'R', 4: 'S', 5: 'X'},\n",
       " 'spot_class': {0: 'B', 1: 'C', 2: 'D', 3: 'E', 4: 'F', 5: 'H'},\n",
       " 'spot_dist': {0: 'C', 1: 'I', 2: 'O', 3: 'X'}}"
      ]
     },
     "execution_count": 4,
     "metadata": {},
     "output_type": "execute_result"
    }
   ],
   "source": [
    "encodedict"
   ]
  },
  {
   "cell_type": "code",
   "execution_count": 5,
   "metadata": {
    "collapsed": false
   },
   "outputs": [
    {
     "data": {
      "text/html": [
       "<div>\n",
       "<style>\n",
       "    .dataframe thead tr:only-child th {\n",
       "        text-align: right;\n",
       "    }\n",
       "\n",
       "    .dataframe thead th {\n",
       "        text-align: left;\n",
       "    }\n",
       "\n",
       "    .dataframe tbody tr th {\n",
       "        vertical-align: top;\n",
       "    }\n",
       "</style>\n",
       "<table border=\"1\" class=\"dataframe\">\n",
       "  <thead>\n",
       "    <tr style=\"text-align: right;\">\n",
       "      <th></th>\n",
       "      <th>spot_class</th>\n",
       "      <th>l_spot_size</th>\n",
       "      <th>spot_dist</th>\n",
       "      <th>activity</th>\n",
       "      <th>evolution</th>\n",
       "      <th>prev_activity</th>\n",
       "      <th>hist_complex</th>\n",
       "      <th>hist_complex_recent</th>\n",
       "      <th>area</th>\n",
       "      <th>l_area</th>\n",
       "      <th>solar_flare</th>\n",
       "    </tr>\n",
       "  </thead>\n",
       "  <tbody>\n",
       "    <tr>\n",
       "      <th>0</th>\n",
       "      <td>5</td>\n",
       "      <td>0</td>\n",
       "      <td>3</td>\n",
       "      <td>1</td>\n",
       "      <td>3</td>\n",
       "      <td>1</td>\n",
       "      <td>1</td>\n",
       "      <td>1</td>\n",
       "      <td>1</td>\n",
       "      <td>1</td>\n",
       "      <td>0</td>\n",
       "    </tr>\n",
       "    <tr>\n",
       "      <th>1</th>\n",
       "      <td>2</td>\n",
       "      <td>3</td>\n",
       "      <td>2</td>\n",
       "      <td>1</td>\n",
       "      <td>3</td>\n",
       "      <td>1</td>\n",
       "      <td>1</td>\n",
       "      <td>2</td>\n",
       "      <td>1</td>\n",
       "      <td>1</td>\n",
       "      <td>0</td>\n",
       "    </tr>\n",
       "    <tr>\n",
       "      <th>2</th>\n",
       "      <td>1</td>\n",
       "      <td>4</td>\n",
       "      <td>2</td>\n",
       "      <td>1</td>\n",
       "      <td>3</td>\n",
       "      <td>1</td>\n",
       "      <td>1</td>\n",
       "      <td>2</td>\n",
       "      <td>1</td>\n",
       "      <td>1</td>\n",
       "      <td>0</td>\n",
       "    </tr>\n",
       "    <tr>\n",
       "      <th>3</th>\n",
       "      <td>5</td>\n",
       "      <td>3</td>\n",
       "      <td>3</td>\n",
       "      <td>1</td>\n",
       "      <td>2</td>\n",
       "      <td>1</td>\n",
       "      <td>1</td>\n",
       "      <td>1</td>\n",
       "      <td>1</td>\n",
       "      <td>1</td>\n",
       "      <td>0</td>\n",
       "    </tr>\n",
       "    <tr>\n",
       "      <th>4</th>\n",
       "      <td>5</td>\n",
       "      <td>4</td>\n",
       "      <td>3</td>\n",
       "      <td>1</td>\n",
       "      <td>1</td>\n",
       "      <td>1</td>\n",
       "      <td>1</td>\n",
       "      <td>2</td>\n",
       "      <td>1</td>\n",
       "      <td>1</td>\n",
       "      <td>0</td>\n",
       "    </tr>\n",
       "  </tbody>\n",
       "</table>\n",
       "</div>"
      ],
      "text/plain": [
       "   spot_class  l_spot_size  spot_dist  activity  evolution  prev_activity  \\\n",
       "0           5            0          3         1          3              1   \n",
       "1           2            3          2         1          3              1   \n",
       "2           1            4          2         1          3              1   \n",
       "3           5            3          3         1          2              1   \n",
       "4           5            4          3         1          1              1   \n",
       "\n",
       "   hist_complex  hist_complex_recent  area  l_area  solar_flare  \n",
       "0             1                    1     1       1            0  \n",
       "1             1                    2     1       1            0  \n",
       "2             1                    2     1       1            0  \n",
       "3             1                    1     1       1            0  \n",
       "4             1                    2     1       1            0  "
      ]
     },
     "execution_count": 5,
     "metadata": {},
     "output_type": "execute_result"
    }
   ],
   "source": [
    "#combine classes into flare/no flare\n",
    "#target (class of flare) = 0 (no flare), 1 (any type of flare)\n",
    "sfdf['solar_flare'] = zeros(len(sfdf.index),dtype=int) \n",
    "for index, row in sfdf.iterrows():\n",
    "    if sum(row[['c_class','m_class','x_class']] ==0) ==3:\n",
    "        sfdf.loc[index,'solar_flare'] = 0\n",
    "    else:\n",
    "        sfdf.loc[index,'solar_flare'] = 1\n",
    "\n",
    "#drop the old class columns\n",
    "sfdf.drop(['c_class','m_class','x_class'],inplace=True,axis=1)\n",
    "\n",
    "#check out the new dataframe        \n",
    "sfdf.head()"
   ]
  },
  {
   "cell_type": "code",
   "execution_count": 6,
   "metadata": {},
   "outputs": [
    {
     "data": {
      "text/html": [
       "<div>\n",
       "<style>\n",
       "    .dataframe thead tr:only-child th {\n",
       "        text-align: right;\n",
       "    }\n",
       "\n",
       "    .dataframe thead th {\n",
       "        text-align: left;\n",
       "    }\n",
       "\n",
       "    .dataframe tbody tr th {\n",
       "        vertical-align: top;\n",
       "    }\n",
       "</style>\n",
       "<table border=\"1\" class=\"dataframe\">\n",
       "  <thead>\n",
       "    <tr style=\"text-align: right;\">\n",
       "      <th></th>\n",
       "      <th>spot_class</th>\n",
       "      <th>l_spot_size</th>\n",
       "      <th>spot_dist</th>\n",
       "      <th>activity</th>\n",
       "      <th>evolution</th>\n",
       "      <th>prev_activity</th>\n",
       "      <th>hist_complex</th>\n",
       "      <th>hist_complex_recent</th>\n",
       "      <th>area</th>\n",
       "      <th>l_area</th>\n",
       "    </tr>\n",
       "    <tr>\n",
       "      <th>solar_flare</th>\n",
       "      <th></th>\n",
       "      <th></th>\n",
       "      <th></th>\n",
       "      <th></th>\n",
       "      <th></th>\n",
       "      <th></th>\n",
       "      <th></th>\n",
       "      <th></th>\n",
       "      <th></th>\n",
       "      <th></th>\n",
       "    </tr>\n",
       "  </thead>\n",
       "  <tbody>\n",
       "    <tr>\n",
       "      <th>0</th>\n",
       "      <td>865</td>\n",
       "      <td>865</td>\n",
       "      <td>865</td>\n",
       "      <td>865</td>\n",
       "      <td>865</td>\n",
       "      <td>865</td>\n",
       "      <td>865</td>\n",
       "      <td>865</td>\n",
       "      <td>865</td>\n",
       "      <td>865</td>\n",
       "    </tr>\n",
       "    <tr>\n",
       "      <th>1</th>\n",
       "      <td>201</td>\n",
       "      <td>201</td>\n",
       "      <td>201</td>\n",
       "      <td>201</td>\n",
       "      <td>201</td>\n",
       "      <td>201</td>\n",
       "      <td>201</td>\n",
       "      <td>201</td>\n",
       "      <td>201</td>\n",
       "      <td>201</td>\n",
       "    </tr>\n",
       "  </tbody>\n",
       "</table>\n",
       "</div>"
      ],
      "text/plain": [
       "             spot_class  l_spot_size  spot_dist  activity  evolution  \\\n",
       "solar_flare                                                            \n",
       "0                   865          865        865       865        865   \n",
       "1                   201          201        201       201        201   \n",
       "\n",
       "             prev_activity  hist_complex  hist_complex_recent  area  l_area  \n",
       "solar_flare                                                                  \n",
       "0                      865           865                  865   865     865  \n",
       "1                      201           201                  201   201     201  "
      ]
     },
     "execution_count": 6,
     "metadata": {},
     "output_type": "execute_result"
    }
   ],
   "source": [
    "#how many cases are there of flare vs no flare\n",
    "sfdf.groupby('solar_flare').count()\n",
    "#more than 4x as many cases of no flares occuring"
   ]
  },
  {
   "cell_type": "code",
   "execution_count": 7,
   "metadata": {},
   "outputs": [
    {
     "data": {
      "text/plain": [
       "<matplotlib.axes._subplots.AxesSubplot at 0x111fc8bd0>"
      ]
     },
     "execution_count": 7,
     "metadata": {},
     "output_type": "execute_result"
    },
    {
     "data": {
      "image/png": "[encoded data removed]",
      "text/plain": [
       "<matplotlib.figure.Figure at 0x111f8e210>"
      ]
     },
     "metadata": {},
     "output_type": "display_data"
    }
   ],
   "source": [
    "#check out correlations\n",
    "sns.heatmap(sfdf.corr())"
   ]
  },
  {
   "cell_type": "code",
   "execution_count": 8,
   "metadata": {},
   "outputs": [
    {
     "name": "stdout",
     "output_type": "stream",
     "text": [
      "1066 1066\n"
     ]
    }
   ],
   "source": [
    "#looks like largest area of sunspot always ==1, so no info here\n",
    "print len(sfdf.index), sum(sfdf.l_area==1)\n",
    "sfdf.drop('l_area', inplace=True, axis=1)"
   ]
  },
  {
   "cell_type": "markdown",
   "metadata": {},
   "source": [
    "# Plot the distributions of the different variables for the case of solar flare/ no solar flare"
   ]
  },
  {
   "cell_type": "code",
   "execution_count": 26,
   "metadata": {},
   "outputs": [
    {
     "name": "stdout",
     "output_type": "stream",
     "text": [
      "spot_class: Classification for configuration of group of sunspots\n",
      "Flare: more often for more complex config of spots. NoFlare: more often for less complex, except H\n",
      "{0: 'B', 1: 'C', 2: 'D', 3: 'E', 4: 'F', 5: 'H'}\n"
     ]
    },
    {
     "data": {
      "image/png": "[encoded data removed]",
      "text/plain": [
       "<matplotlib.figure.Figure at 0x1a15274e90>"
      ]
     },
     "metadata": {},
     "output_type": "display_data"
    },
    {
     "name": "stdout",
     "output_type": "stream",
     "text": [
      "l_spot_size: Classification for the largest sunspot in the group\n",
      "Flare: more often for larger spot, more often than no flare for K. NoFlare: more often for smaller spots\n",
      "{0: 'A', 1: 'H', 2: 'K', 3: 'R', 4: 'S', 5: 'X'}\n"
     ]
    },
    {
     "data": {
      "image/png": "[encoded data removed]",
      "text/plain": [
       "<matplotlib.figure.Figure at 0x1a15500f10>"
      ]
     },
     "metadata": {},
     "output_type": "display_data"
    },
    {
     "name": "stdout",
     "output_type": "stream",
     "text": [
      "spot_dist: Classification for the distribution of the sunspots\n",
      "Flare: more often for more complex dist of spots. NoFlare: much more often for simpler dist of spots\n",
      "{0: 'C', 1: 'I', 2: 'O', 3: 'X'}\n"
     ]
    },
    {
     "data": {
      "image/png": "[encoded data removed]",
      "text/plain": [
       "<matplotlib.figure.Figure at 0x112132290>"
      ]
     },
     "metadata": {},
     "output_type": "display_data"
    }
   ],
   "source": [
    "#get column names to visualize\n",
    "variables = sfdf.columns.tolist()[:-1] #don't include target variable\n",
    "\n",
    "#descriptions for printing alongside each plot, to give context to the visualization\n",
    "descriptions = [\n",
    "    'spot_class: Classification for configuration of group of sunspots',\n",
    "    'l_spot_size: Classification for the largest sunspot in the group',\n",
    "    'spot_dist: Classification for the distribution of the sunspots'\n",
    "]\n",
    "\n",
    "#my observations from the plots\n",
    "observations = [\n",
    "    'Flare: more often for more complex config of spots. NoFlare: more often for less complex, except H',\n",
    "    'Flare: more often for larger spot, more often than no flare for K. NoFlare: more often for smaller spots',\n",
    "    'Flare: more often for more complex dist of spots. NoFlare: much more often for simpler dist of spots'\n",
    "]\n",
    "\n",
    "#ordering for the factor plot from least to most complex\n",
    "plotorder = [[0,1,2,3,4,5],\n",
    "             [5,3,4,0,1,2],\n",
    "             [3,2,1,0]]\n",
    "\n",
    "for ii,vv in enumerate(variables[:3]):\n",
    "    print(descriptions[ii])\n",
    "    print(observations[ii])\n",
    "    print(encodedict[vv])\n",
    "    sns.factorplot(x=vv, hue='solar_flare', kind='count', data=sfdf, order=plotorder[ii])\n",
    "    plt.show()"
   ]
  },
  {
   "cell_type": "code",
   "execution_count": 29,
   "metadata": {},
   "outputs": [
    {
     "name": "stdout",
     "output_type": "stream",
     "text": [
      "activity: How has the sunspot activity changed? (1/reduced, 2/unchanged)\n",
      "Reduced activity makes no flare more likely\n"
     ]
    },
    {
     "data": {
      "image/png": "[encoded data removed]",
      "text/plain": [
       "<matplotlib.figure.Figure at 0x11232d0d0>"
      ]
     },
     "metadata": {},
     "output_type": "display_data"
    },
    {
     "name": "stdout",
     "output_type": "stream",
     "text": [
      "evolution: How have the sunspots evolved? (1/decay, 2/no growth, 3/growth)\n",
      "Decayed evolution makes flares less likely\n"
     ]
    },
    {
     "data": {
      "image/png": "[encoded data removed]",
      "text/plain": [
       "<matplotlib.figure.Figure at 0x1a14fe8b50>"
      ]
     },
     "metadata": {},
     "output_type": "display_data"
    },
    {
     "name": "stdout",
     "output_type": "stream",
     "text": [
      "prev_activity: Were there any large flares in the last 24 hours? (1 = nothing as big an an M1, 2 = one M1, 3 = more than one M1)\n",
      "Flares larger than M1 rarely happen, more M1 flares makes it more likely to have another flare\n"
     ]
    },
    {
     "data": {
      "image/png": "[encoded data removed]",
      "text/plain": [
       "<matplotlib.figure.Figure at 0x1a14ff0610>"
      ]
     },
     "metadata": {},
     "output_type": "display_data"
    },
    {
     "name": "stdout",
     "output_type": "stream",
     "text": [
      "hist_complex: Has this region been complex? (1/yes, 2/no)\n",
      "Flares are equally divided\n"
     ]
    },
    {
     "data": {
      "image/png": "[encoded data removed]",
      "text/plain": [
       "<matplotlib.figure.Figure at 0x1a1ab9a250>"
      ]
     },
     "metadata": {},
     "output_type": "display_data"
    },
    {
     "name": "stdout",
     "output_type": "stream",
     "text": [
      "hist_complex_recent: Did this region become complex on this pass across sun's disk? (1/yes, 2/no)\n",
      "If the region has been complex for a while, more likely to have flare\n"
     ]
    },
    {
     "data": {
      "image/png": "[encoded data removed]",
      "text/plain": [
       "<matplotlib.figure.Figure at 0x1a1a6e2f90>"
      ]
     },
     "metadata": {},
     "output_type": "display_data"
    },
    {
     "name": "stdout",
     "output_type": "stream",
     "text": [
      "area: Area of sunspots (1/small, 2/large)\n",
      "Larger sunspot makes it relatively more likely to have a flare\n"
     ]
    },
    {
     "data": {
      "image/png": "[encoded data removed]",
      "text/plain": [
       "<matplotlib.figure.Figure at 0x1a1ab7cbd0>"
      ]
     },
     "metadata": {},
     "output_type": "display_data"
    }
   ],
   "source": [
    "#descriptions for printing alongside each plot, to give context to the visualization\n",
    "descriptions = [\n",
    "    'activity: How has the sunspot activity changed? (1/reduced, 2/unchanged)',\n",
    "    'evolution: How have the sunspots evolved? (1/decay, 2/no growth, 3/growth)',\n",
    "    'prev_activity: Were there any large flares in the last 24 hours? (1 = nothing as big an an M1, 2 = one M1, 3 = more than one M1)',\n",
    "    'hist_complex: Has this region been complex? (1/yes, 2/no)',\n",
    "    'hist_complex_recent: Did this region become complex on this pass across sun\\'s disk? (1/yes, 2/no)',\n",
    "    'area: Area of sunspots (1/small, 2/large)',\n",
    "    'l_area: Area of largest spot (1 means <=5, 2 means >5)' \n",
    "]\n",
    "\n",
    "observations = [\n",
    "    'Reduced activity makes no flare more likely',\n",
    "    'Decayed evolution makes flares less likely',\n",
    "    'Flares larger than M1 rarely happen, more M1 flares makes it more likely to have another flare',\n",
    "    'Flares are equally divided',\n",
    "    'If the region has been complex for a while, more likely to have flare',\n",
    "    'Larger sunspot makes it relatively more likely to have a flare'\n",
    "]\n",
    "\n",
    "for ii,vv in enumerate(variables[3:]):\n",
    "    print(descriptions[ii])\n",
    "    print(observations[ii])\n",
    "    sns.factorplot(x=vv,hue='solar_flare',kind='count',data=sfdf)\n",
    "    plt.show()"
   ]
  },
  {
   "cell_type": "markdown",
   "metadata": {},
   "source": [
    "### This is a bunch of categorical data that needs to be reformatted into a way the classifier can understand, so replace the classes via one hot encoding"
   ]
  },
  {
   "cell_type": "code",
   "execution_count": 11,
   "metadata": {},
   "outputs": [
    {
     "data": {
      "text/html": [
       "<div>\n",
       "<style>\n",
       "    .dataframe thead tr:only-child th {\n",
       "        text-align: right;\n",
       "    }\n",
       "\n",
       "    .dataframe thead th {\n",
       "        text-align: left;\n",
       "    }\n",
       "\n",
       "    .dataframe tbody tr th {\n",
       "        vertical-align: top;\n",
       "    }\n",
       "</style>\n",
       "<table border=\"1\" class=\"dataframe\">\n",
       "  <thead>\n",
       "    <tr style=\"text-align: right;\">\n",
       "      <th></th>\n",
       "      <th>solar_flare</th>\n",
       "      <th>sc_1</th>\n",
       "      <th>sc_2</th>\n",
       "      <th>sc_3</th>\n",
       "      <th>sc_4</th>\n",
       "      <th>sc_5</th>\n",
       "      <th>lss_1</th>\n",
       "      <th>lss_2</th>\n",
       "      <th>lss_3</th>\n",
       "      <th>lss_4</th>\n",
       "      <th>...</th>\n",
       "      <th>sd_2</th>\n",
       "      <th>sd_3</th>\n",
       "      <th>act_2</th>\n",
       "      <th>ev_2</th>\n",
       "      <th>ev_3</th>\n",
       "      <th>pact_2</th>\n",
       "      <th>pact_3</th>\n",
       "      <th>hc_2</th>\n",
       "      <th>hcr_2</th>\n",
       "      <th>a_2</th>\n",
       "    </tr>\n",
       "  </thead>\n",
       "  <tbody>\n",
       "    <tr>\n",
       "      <th>0</th>\n",
       "      <td>0</td>\n",
       "      <td>0</td>\n",
       "      <td>0</td>\n",
       "      <td>0</td>\n",
       "      <td>0</td>\n",
       "      <td>1</td>\n",
       "      <td>0</td>\n",
       "      <td>0</td>\n",
       "      <td>0</td>\n",
       "      <td>0</td>\n",
       "      <td>...</td>\n",
       "      <td>0</td>\n",
       "      <td>1</td>\n",
       "      <td>0</td>\n",
       "      <td>0</td>\n",
       "      <td>1</td>\n",
       "      <td>0</td>\n",
       "      <td>0</td>\n",
       "      <td>0</td>\n",
       "      <td>0</td>\n",
       "      <td>0</td>\n",
       "    </tr>\n",
       "    <tr>\n",
       "      <th>1</th>\n",
       "      <td>0</td>\n",
       "      <td>0</td>\n",
       "      <td>1</td>\n",
       "      <td>0</td>\n",
       "      <td>0</td>\n",
       "      <td>0</td>\n",
       "      <td>0</td>\n",
       "      <td>0</td>\n",
       "      <td>1</td>\n",
       "      <td>0</td>\n",
       "      <td>...</td>\n",
       "      <td>1</td>\n",
       "      <td>0</td>\n",
       "      <td>0</td>\n",
       "      <td>0</td>\n",
       "      <td>1</td>\n",
       "      <td>0</td>\n",
       "      <td>0</td>\n",
       "      <td>0</td>\n",
       "      <td>1</td>\n",
       "      <td>0</td>\n",
       "    </tr>\n",
       "    <tr>\n",
       "      <th>2</th>\n",
       "      <td>0</td>\n",
       "      <td>1</td>\n",
       "      <td>0</td>\n",
       "      <td>0</td>\n",
       "      <td>0</td>\n",
       "      <td>0</td>\n",
       "      <td>0</td>\n",
       "      <td>0</td>\n",
       "      <td>0</td>\n",
       "      <td>1</td>\n",
       "      <td>...</td>\n",
       "      <td>1</td>\n",
       "      <td>0</td>\n",
       "      <td>0</td>\n",
       "      <td>0</td>\n",
       "      <td>1</td>\n",
       "      <td>0</td>\n",
       "      <td>0</td>\n",
       "      <td>0</td>\n",
       "      <td>1</td>\n",
       "      <td>0</td>\n",
       "    </tr>\n",
       "    <tr>\n",
       "      <th>3</th>\n",
       "      <td>0</td>\n",
       "      <td>0</td>\n",
       "      <td>0</td>\n",
       "      <td>0</td>\n",
       "      <td>0</td>\n",
       "      <td>1</td>\n",
       "      <td>0</td>\n",
       "      <td>0</td>\n",
       "      <td>1</td>\n",
       "      <td>0</td>\n",
       "      <td>...</td>\n",
       "      <td>0</td>\n",
       "      <td>1</td>\n",
       "      <td>0</td>\n",
       "      <td>1</td>\n",
       "      <td>0</td>\n",
       "      <td>0</td>\n",
       "      <td>0</td>\n",
       "      <td>0</td>\n",
       "      <td>0</td>\n",
       "      <td>0</td>\n",
       "    </tr>\n",
       "    <tr>\n",
       "      <th>4</th>\n",
       "      <td>0</td>\n",
       "      <td>0</td>\n",
       "      <td>0</td>\n",
       "      <td>0</td>\n",
       "      <td>0</td>\n",
       "      <td>1</td>\n",
       "      <td>0</td>\n",
       "      <td>0</td>\n",
       "      <td>0</td>\n",
       "      <td>1</td>\n",
       "      <td>...</td>\n",
       "      <td>0</td>\n",
       "      <td>1</td>\n",
       "      <td>0</td>\n",
       "      <td>0</td>\n",
       "      <td>0</td>\n",
       "      <td>0</td>\n",
       "      <td>0</td>\n",
       "      <td>0</td>\n",
       "      <td>1</td>\n",
       "      <td>0</td>\n",
       "    </tr>\n",
       "  </tbody>\n",
       "</table>\n",
       "<p>5 rows × 22 columns</p>\n",
       "</div>"
      ],
      "text/plain": [
       "   solar_flare  sc_1  sc_2  sc_3  sc_4  sc_5  lss_1  lss_2  lss_3  lss_4 ...   \\\n",
       "0            0     0     0     0     0     1      0      0      0      0 ...    \n",
       "1            0     0     1     0     0     0      0      0      1      0 ...    \n",
       "2            0     1     0     0     0     0      0      0      0      1 ...    \n",
       "3            0     0     0     0     0     1      0      0      1      0 ...    \n",
       "4            0     0     0     0     0     1      0      0      0      1 ...    \n",
       "\n",
       "   sd_2  sd_3  act_2  ev_2  ev_3  pact_2  pact_3  hc_2  hcr_2  a_2  \n",
       "0     0     1      0     0     1       0       0     0      0    0  \n",
       "1     1     0      0     0     1       0       0     0      1    0  \n",
       "2     1     0      0     0     1       0       0     0      1    0  \n",
       "3     0     1      0     1     0       0       0     0      0    0  \n",
       "4     0     1      0     0     0       0       0     0      1    0  \n",
       "\n",
       "[5 rows x 22 columns]"
      ]
     },
     "execution_count": 11,
     "metadata": {},
     "output_type": "execute_result"
    }
   ],
   "source": [
    "#replace categorical features with dummy features, if ordered though leave as numbers\n",
    "sfdf_clean = sfdf.copy()\n",
    "labels = ['sc','lss','sd','act','ev','pact','hc','hcr','a']\n",
    "\n",
    "#replace all categories w/ dummies\n",
    "for ii,vv in enumerate(variables):\n",
    "    #get dummmy features\n",
    "    dummydf = pd.get_dummies(sfdf[vv],drop_first=True,prefix=labels[ii]).astype(int)\n",
    "    #add dummy features to df\n",
    "    sfdf_clean = pd.concat([sfdf_clean,dummydf],axis=1)\n",
    "    #drop old feature\n",
    "    sfdf_clean.drop(vv,inplace=True,axis=1)\n",
    "\n",
    "sfdf_clean.head()"
   ]
  },
  {
   "cell_type": "markdown",
   "metadata": {},
   "source": [
    "# Now start training classifier\n",
    "## Get training/test sets\n"
   ]
  },
  {
   "cell_type": "code",
   "execution_count": 12,
   "metadata": {
    "collapsed": false
   },
   "outputs": [
    {
     "data": {
      "text/plain": [
       "(799, 267)"
      ]
     },
     "execution_count": 12,
     "metadata": {},
     "output_type": "execute_result"
    }
   ],
   "source": [
    "cols = sfdf_clean.columns[sfdf_clean.columns!='solar_flare'] #input variables\n",
    "X = sfdf_clean[cols]\n",
    "y = sfdf_clean.solar_flare\n",
    "X_train,X_test,y_train,y_test = train_test_split(X,y,random_state=0)\n",
    "len(X_train),len(X_test)"
   ]
  },
  {
   "cell_type": "markdown",
   "metadata": {},
   "source": [
    "## Fit and Evaluate Logistic Regression classifier"
   ]
  },
  {
   "cell_type": "code",
   "execution_count": 13,
   "metadata": {
    "collapsed": false
   },
   "outputs": [
    {
     "name": "stdout",
     "output_type": "stream",
     "text": [
      "confusion matrix\n",
      "[[215   9]\n",
      " [ 31  12]]\n",
      "('accuracy w/ train and test data =', 0.8247809762202754, 0.850187265917603)\n",
      "classification report\n",
      "             precision    recall  f1-score   support\n",
      "\n",
      "          0       0.87      0.96      0.91       224\n",
      "          1       0.57      0.28      0.37        43\n",
      "\n",
      "avg / total       0.83      0.85      0.83       267\n",
      "\n"
     ]
    },
    {
     "data": {
      "text/plain": [
       "<matplotlib.legend.Legend at 0x1a14ecf490>"
      ]
     },
     "execution_count": 13,
     "metadata": {},
     "output_type": "execute_result"
    },
    {
     "data": {
      "image/png": "[encoded data removed]",
      "text/plain": [
       "<matplotlib.figure.Figure at 0x1a154e5790>"
      ]
     },
     "metadata": {},
     "output_type": "display_data"
    },
    {
     "data": {
      "image/png": "[encoded data removed]",
      "text/plain": [
       "<matplotlib.figure.Figure at 0x1a154cc3d0>"
      ]
     },
     "metadata": {},
     "output_type": "display_data"
    }
   ],
   "source": [
    "#train model\n",
    "logreg = LogisticRegression(random_state=0)\n",
    "logreg.fit(X_train,y_train)\n",
    "\n",
    "#evaluate model\n",
    "\n",
    "#predictions\n",
    "y_pred_logreg = logreg.predict(X_test)\n",
    "prob_logreg = logreg.predict_proba(X_test)[:,1]\n",
    "\n",
    "#confusion matrix\n",
    "cm_logreg = metrics.confusion_matrix(y_test, y_pred_logreg)\n",
    "print ('confusion matrix')\n",
    "print(cm_logreg)\n",
    "\n",
    "#accuracy and classification report\n",
    "print( 'accuracy w/ train and test data =', logreg.score(X_train,y_train), logreg.score(X_test,y_test)) #doesn't mean much because of imbalanced classes\n",
    "print('classification report')\n",
    "print(metrics.classification_report(y_test,y_pred_logreg))\n",
    "#precision == how many correctly predicted flares/ how many total flares were predicted\n",
    "#recall == how many correctly predicted flares/ how many flares there really were\n",
    "\n",
    "#roc curve\n",
    "fpr_logreg, tpr_logreg, _ = metrics.roc_curve(y_test,prob_logreg)\n",
    "auc_logreg = metrics.roc_auc_score(y_test,prob_logreg)\n",
    "figure()\n",
    "title('ROC Curve')\n",
    "plot(fpr_logreg,tpr_logreg,label='AUC=%0.2f' %auc_logreg)\n",
    "xlabel('False Positive Rate')\n",
    "ylabel('True Positive Rate')\n",
    "legend(loc=4)\n",
    "\n",
    "#precision-recall curve\n",
    "prec_logreg, rc_logreg, _ = metrics.precision_recall_curve(y_test,prob_logreg)\n",
    "pr_auc = metrics.auc(rc_logreg,prec_logreg)\n",
    "figure()\n",
    "title('Precision-Recall Curve')\n",
    "plot(rc_logreg,prec_logreg,label='AUC=%0.2f' %pr_auc)\n",
    "xlabel('Recall')\n",
    "ylabel('Precision')\n",
    "legend()"
   ]
  },
  {
   "cell_type": "markdown",
   "metadata": {},
   "source": [
    "### Looks like the spot class/largest spot class has a large impact"
   ]
  },
  {
   "cell_type": "code",
   "execution_count": 14,
   "metadata": {
    "collapsed": false
   },
   "outputs": [
    {
     "data": {
      "text/plain": [
       "array([['lss_2', '0.7089172135674808'],\n",
       "       ['sc_3', '0.6035237803720556'],\n",
       "       ['sc_4', '0.5895328426899936'],\n",
       "       ['act_2', '0.481173590403271'],\n",
       "       ['sc_2', '0.35932881359450225'],\n",
       "       ['ev_3', '0.3292834089171255'],\n",
       "       ['pact_2', '0.15097544972366653'],\n",
       "       ['ev_2', '0.09065248077793896'],\n",
       "       ['pact_3', '0.07745681259493424'],\n",
       "       ['lss_5', '-0.9837481791052812'],\n",
       "       ['sc_5', '-0.8345728323153337'],\n",
       "       ['sd_3', '-0.8345728323153337'],\n",
       "       ['sd_2', '-0.5923954591832623'],\n",
       "       ['lss_3', '-0.548366575741374'],\n",
       "       ['lss_4', '-0.3609014834090571'],\n",
       "       ['a_2', '-0.26291909315425954'],\n",
       "       ['sc_1', '-0.198677274791391'],\n",
       "       ['sd_1', '-0.18043772148008394'],\n",
       "       ['hc_2', '-0.09769790264867996'],\n",
       "       ['hcr_2', '-0.07281053099620116'],\n",
       "       ['lss_1', '-0.04322000096185811']], dtype='|S20')"
      ]
     },
     "execution_count": 14,
     "metadata": {},
     "output_type": "execute_result"
    }
   ],
   "source": [
    "#examine coefficients\n",
    "coef = array(zip(cols, logreg.coef_[0]))\n",
    "coef=coef[argsort(coef[:,1])][::-1]\n",
    "coef"
   ]
  },
  {
   "cell_type": "markdown",
   "metadata": {},
   "source": [
    "# Takeaways\n",
    "# * The complexity of the configurations of the spots, and recent activity appear to be most important in predicting another flare\n",
    "# * Looks like I need to look into more methods for dealing with imbalanced classes\n"
   ]
  },
  {
   "cell_type": "code",
   "execution_count": null,
   "metadata": {},
   "outputs": [],
   "source": []
  },
  {
   "cell_type": "code",
   "execution_count": null,
   "metadata": {},
   "outputs": [],
   "source": []
  },
  {
   "cell_type": "code",
   "execution_count": null,
   "metadata": {},
   "outputs": [],
   "source": []
  },
  {
   "cell_type": "code",
   "execution_count": null,
   "metadata": {},
   "outputs": [],
   "source": []
  },
  {
   "cell_type": "markdown",
   "metadata": {},
   "source": [
    "# Tests"
   ]
  },
  {
   "cell_type": "markdown",
   "metadata": {},
   "source": [
    "### Look at accuracy of classifying everything as no flare"
   ]
  },
  {
   "cell_type": "code",
   "execution_count": 15,
   "metadata": {},
   "outputs": [
    {
     "name": "stdout",
     "output_type": "stream",
     "text": [
      "0.8389513108614233\n"
     ]
    }
   ],
   "source": [
    "from sklearn.dummy import DummyClassifier\n",
    "dummy = DummyClassifier(strategy='most_frequent')\n",
    "dummy.fit(X_train, y_train)\n",
    "ydpred = dummy.predict(X_test)\n",
    "print metrics.accuracy_score(y_test, ydpred)"
   ]
  },
  {
   "cell_type": "markdown",
   "metadata": {},
   "source": [
    "### Try gridsearch over logistic regression hyperparameters"
   ]
  },
  {
   "cell_type": "code",
   "execution_count": 16,
   "metadata": {},
   "outputs": [
    {
     "name": "stdout",
     "output_type": "stream",
     "text": [
      "Scoring metric is precision\n"
     ]
    },
    {
     "name": "stderr",
     "output_type": "stream",
     "text": [
      "/Users/brittanyfuzia/anaconda2/lib/python2.7/site-packages/sklearn/metrics/classification.py:1135: UndefinedMetricWarning: Precision is ill-defined and being set to 0.0 due to no predicted samples.\n",
      "  'precision', 'predicted', average, warn_for)\n"
     ]
    },
    {
     "name": "stdout",
     "output_type": "stream",
     "text": [
      "Best parameters:\n",
      "LogisticRegression(C=1, class_weight=None, dual=False, fit_intercept=True,\n",
      "          intercept_scaling=1, max_iter=100, multi_class='ovr', n_jobs=1,\n",
      "          penalty='l1', random_state=None, solver='liblinear', tol=0.0001,\n",
      "          verbose=0, warm_start=False)\n",
      "Scores\n",
      "0.000 (+/-0.000) for {'penalty': 'l1', 'C': 0.01}\n",
      "0.000 (+/-0.000) for {'penalty': 'l2', 'C': 0.01}\n",
      "0.000 (+/-0.000) for {'penalty': 'l1', 'C': 0.1}\n",
      "0.571 (+/-0.148) for {'penalty': 'l2', 'C': 0.1}\n",
      "0.622 (+/-0.081) for {'penalty': 'l1', 'C': 1}\n",
      "0.577 (+/-0.087) for {'penalty': 'l2', 'C': 1}\n",
      "0.569 (+/-0.067) for {'penalty': 'l1', 'C': 10}\n",
      "0.569 (+/-0.067) for {'penalty': 'l2', 'C': 10}\n",
      "0.569 (+/-0.067) for {'penalty': 'l1', 'C': 100}\n",
      "0.569 (+/-0.067) for {'penalty': 'l2', 'C': 100}\n",
      "0.569 (+/-0.067) for {'penalty': 'l1', 'C': 1000}\n",
      "0.569 (+/-0.067) for {'penalty': 'l2', 'C': 1000}\n",
      "Classification report\n",
      "             precision    recall  f1-score   support\n",
      "\n",
      "          0       0.87      0.96      0.91       224\n",
      "          1       0.55      0.28      0.37        43\n",
      "\n",
      "avg / total       0.82      0.85      0.83       267\n",
      "\n",
      "Scoring metric is recall\n"
     ]
    },
    {
     "name": "stderr",
     "output_type": "stream",
     "text": [
      "/Users/brittanyfuzia/anaconda2/lib/python2.7/site-packages/sklearn/model_selection/_search.py:761: DeprecationWarning: The grid_scores_ attribute was deprecated in version 0.18 in favor of the more elaborate cv_results_ attribute. The grid_scores_ attribute will not be available from 0.20\n",
      "  DeprecationWarning)\n"
     ]
    },
    {
     "name": "stdout",
     "output_type": "stream",
     "text": [
      "Best parameters:\n",
      "LogisticRegression(C=10, class_weight=None, dual=False, fit_intercept=True,\n",
      "          intercept_scaling=1, max_iter=100, multi_class='ovr', n_jobs=1,\n",
      "          penalty='l1', random_state=None, solver='liblinear', tol=0.0001,\n",
      "          verbose=0, warm_start=False)\n",
      "Scores\n",
      "0.000 (+/-0.000) for {'penalty': 'l1', 'C': 0.01}\n",
      "0.000 (+/-0.000) for {'penalty': 'l2', 'C': 0.01}\n",
      "0.000 (+/-0.000) for {'penalty': 'l1', 'C': 0.1}\n",
      "0.113 (+/-0.039) for {'penalty': 'l2', 'C': 0.1}\n",
      "0.196 (+/-0.029) for {'penalty': 'l1', 'C': 1}\n",
      "0.196 (+/-0.029) for {'penalty': 'l2', 'C': 1}\n",
      "0.215 (+/-0.028) for {'penalty': 'l1', 'C': 10}\n",
      "0.215 (+/-0.028) for {'penalty': 'l2', 'C': 10}\n",
      "0.215 (+/-0.028) for {'penalty': 'l1', 'C': 100}\n",
      "0.215 (+/-0.028) for {'penalty': 'l2', 'C': 100}\n",
      "0.215 (+/-0.028) for {'penalty': 'l1', 'C': 1000}\n",
      "0.215 (+/-0.028) for {'penalty': 'l2', 'C': 1000}\n",
      "Classification report\n",
      "             precision    recall  f1-score   support\n",
      "\n",
      "          0       0.87      0.96      0.91       224\n",
      "          1       0.55      0.26      0.35        43\n",
      "\n",
      "avg / total       0.82      0.85      0.82       267\n",
      "\n"
     ]
    },
    {
     "name": "stderr",
     "output_type": "stream",
     "text": [
      "/Users/brittanyfuzia/anaconda2/lib/python2.7/site-packages/sklearn/model_selection/_search.py:761: DeprecationWarning: The grid_scores_ attribute was deprecated in version 0.18 in favor of the more elaborate cv_results_ attribute. The grid_scores_ attribute will not be available from 0.20\n",
      "  DeprecationWarning)\n"
     ]
    }
   ],
   "source": [
    "from sklearn.model_selection import GridSearchCV\n",
    "\n",
    "grid = {'C': [0.01, 0.1, 1, 10, 100, 1000], 'penalty': ['l1','l2']}\n",
    "score = ['precision','recall']\n",
    "\n",
    "for ss in score:\n",
    "    print('Scoring metric is %s' %ss)\n",
    "    gs = GridSearchCV(LogisticRegression(), grid, cv=10, scoring=ss)\n",
    "    gs.fit(X_train,y_train)\n",
    "\n",
    "    y_pred_gs = gs.predict(X_test)\n",
    "    prob_gs = gs.predict_proba(X_test)[:,1]\n",
    "    \n",
    "    print('Best parameters:')\n",
    "    print(gs.best_estimator_)\n",
    "\n",
    "    print('Scores')\n",
    "    for params, mean_score, scores in gs.grid_scores_:\n",
    "        print('%0.3f (+/-%0.03f) for %r'\n",
    "            % (mean_score, scores.std() / 2, params))\n",
    "\n",
    "    print('Classification report')\n",
    "    print(metrics.classification_report(y_test, y_pred_gs))\n",
    "\n",
    " "
   ]
  },
  {
   "cell_type": "markdown",
   "metadata": {},
   "source": [
    "### Try with random forest"
   ]
  },
  {
   "cell_type": "code",
   "execution_count": 17,
   "metadata": {},
   "outputs": [
    {
     "name": "stdout",
     "output_type": "stream",
     "text": [
      "confusion matrix\n",
      "[[207  17]\n",
      " [ 31  12]]\n",
      "('accuracy w/ train and test data =', 0.8798498122653317, 0.8202247191011236)\n",
      "classification report\n",
      "             precision    recall  f1-score   support\n",
      "\n",
      "          0       0.87      0.92      0.90       224\n",
      "          1       0.41      0.28      0.33        43\n",
      "\n",
      "avg / total       0.80      0.82      0.81       267\n",
      "\n"
     ]
    },
    {
     "data": {
      "text/plain": [
       "<matplotlib.legend.Legend at 0x1a15113fd0>"
      ]
     },
     "execution_count": 17,
     "metadata": {},
     "output_type": "execute_result"
    },
    {
     "data": {
      "image/png": "[encoded data removed]",
      "text/plain": [
       "<matplotlib.figure.Figure at 0x1a15639690>"
      ]
     },
     "metadata": {},
     "output_type": "display_data"
    },
    {
     "data": {
      "image/png": "[encoded data removed]",
      "text/plain": [
       "<matplotlib.figure.Figure at 0x1122111d0>"
      ]
     },
     "metadata": {},
     "output_type": "display_data"
    }
   ],
   "source": [
    "from sklearn.ensemble import RandomForestClassifier\n",
    "\n",
    "#split test/train data    \n",
    "cols_rf = sfdf.columns[sfdf.columns!='solar_flare'] #input variables\n",
    "X_rf = sfdf[cols_rf]\n",
    "y_rf = sfdf.solar_flare\n",
    "X_rf_train,X_rf_test,y_rf_train,y_rf_test = train_test_split(X_rf,y_rf,random_state=0)#encode data\n",
    "\n",
    "#train model\n",
    "rf = RandomForestClassifier(random_state=0)\n",
    "rf.fit(X_rf_train,y_rf_train)\n",
    "\n",
    "#evaluate model\n",
    "\n",
    "#predictions\n",
    "y_pred_rf = rf.predict(X_rf_test)\n",
    "prob_rf = rf.predict_proba(X_rf_test)[:,1]\n",
    "\n",
    "#confusion matrix\n",
    "cm_rf = metrics.confusion_matrix(y_rf_test, y_pred_rf)\n",
    "print ('confusion matrix')\n",
    "print(cm_rf)\n",
    "\n",
    "#accuracy and classification report\n",
    "print( 'accuracy w/ train and test data =', rf.score(X_rf_train,y_rf_train), rf.score(X_rf_test,y_rf_test)) #doesn't mean much because of imbalanced classes\n",
    "print('classification report')\n",
    "print(metrics.classification_report(y_rf_test,y_pred_rf))\n",
    "#precision == how many correctly predicted flares/ how many total flares were predicted\n",
    "#recall == how many correctly predicted flares/ how many flares there really were\n",
    "\n",
    "#roc curve\n",
    "fpr_rf, tpr_rf, _ = metrics.roc_curve(y_rf_test,prob_rf)\n",
    "auc_rf = metrics.roc_auc_score(y_rf_test,prob_rf)\n",
    "figure()\n",
    "title('ROC Curve')\n",
    "plot(fpr_rf,tpr_rf,label='AUC=%0.2f' %auc_rf)\n",
    "xlabel('False Positive Rate')\n",
    "ylabel('True Positive Rate')\n",
    "legend(loc=4)\n",
    "\n",
    "#precision-recall curve\n",
    "prec_rf, rc_rf, _ = metrics.precision_recall_curve(y_rf_test,prob_rf)\n",
    "pr_auc = metrics.auc(rc_rf,prec_rf)\n",
    "figure()\n",
    "title('Precision-Recall Curve')\n",
    "plot(rc_rf,prec_rf,label='AUC=%0.2f' %pr_auc)\n",
    "xlabel('Recall')\n",
    "ylabel('Precision')\n",
    "legend()"
   ]
  },
  {
   "cell_type": "markdown",
   "metadata": {},
   "source": [
    "### It looks again like the complexity of the configurations of spots are most important"
   ]
  },
  {
   "cell_type": "code",
   "execution_count": 18,
   "metadata": {},
   "outputs": [
    {
     "data": {
      "text/plain": [
       "array([['spot_class', '0.256273853444002'],\n",
       "       ['l_spot_size', '0.21925234241071587'],\n",
       "       ['spot_dist', '0.17114740904731185'],\n",
       "       ['evolution', '0.12696520794470023'],\n",
       "       ['hist_complex', '0.07097579095320788'],\n",
       "       ['activity', '0.06096122562896612'],\n",
       "       ['prev_activity', '0.05905058364928262'],\n",
       "       ['area', '0.02561966479985613'],\n",
       "       ['hist_complex_recent', '0.009753922121957349']], dtype='|S20')"
      ]
     },
     "execution_count": 18,
     "metadata": {},
     "output_type": "execute_result"
    }
   ],
   "source": [
    "#how important is each feature\n",
    "fi = array(zip(sfdf[cols_rf], rf.feature_importances_))\n",
    "fi=fi[argsort(fi[:,1])][::-1]\n",
    "fi"
   ]
  },
  {
   "cell_type": "code",
   "execution_count": null,
   "metadata": {},
   "outputs": [],
   "source": []
  },
  {
   "cell_type": "code",
   "execution_count": null,
   "metadata": {},
   "outputs": [],
   "source": []
  },
  {
   "cell_type": "code",
   "execution_count": null,
   "metadata": {},
   "outputs": [],
   "source": []
  },
  {
   "cell_type": "code",
   "execution_count": null,
   "metadata": {},
   "outputs": [],
   "source": []
  },
  {
   "cell_type": "code",
   "execution_count": null,
   "metadata": {},
   "outputs": [],
   "source": []
  },
  {
   "cell_type": "code",
   "execution_count": null,
   "metadata": {},
   "outputs": [],
   "source": []
  },
  {
   "cell_type": "code",
   "execution_count": null,
   "metadata": {},
   "outputs": [],
   "source": []
  },
  {
   "cell_type": "code",
   "execution_count": null,
   "metadata": {},
   "outputs": [],
   "source": []
  },
  {
   "cell_type": "code",
   "execution_count": null,
   "metadata": {},
   "outputs": [],
   "source": []
  },
  {
   "cell_type": "code",
   "execution_count": null,
   "metadata": {},
   "outputs": [],
   "source": []
  },
  {
   "cell_type": "code",
   "execution_count": null,
   "metadata": {},
   "outputs": [],
   "source": []
  },
  {
   "cell_type": "code",
   "execution_count": null,
   "metadata": {},
   "outputs": [],
   "source": []
  },
  {
   "cell_type": "markdown",
   "metadata": {},
   "source": [
    "# Random Tests"
   ]
  },
  {
   "cell_type": "code",
   "execution_count": 19,
   "metadata": {},
   "outputs": [
    {
     "ename": "IndentationError",
     "evalue": "unexpected indent (<ipython-input-19-26637c4f75ec>, line 3)",
     "output_type": "error",
     "traceback": [
      "\u001b[0;36m  File \u001b[0;32m\"<ipython-input-19-26637c4f75ec>\"\u001b[0;36m, line \u001b[0;32m3\u001b[0m\n\u001b[0;31m    fpr_gs, tpr_gs, _ = metrics.roc_curve(y_test,prob_gs)\u001b[0m\n\u001b[0m    ^\u001b[0m\n\u001b[0;31mIndentationError\u001b[0m\u001b[0;31m:\u001b[0m unexpected indent\n"
     ]
    }
   ],
   "source": [
    "#grid search plots\n",
    "#roc curve\n",
    "    fpr_gs, tpr_gs, _ = metrics.roc_curve(y_test,prob_gs)\n",
    "    auc_gs = metrics.roc_auc_score(y_test,prob_gs)\n",
    "    figure()\n",
    "    title('ROC Curve')\n",
    "    plot(fpr_gs,tpr_gs,label='AUC=%0.2f' %auc_gs)\n",
    "    xlabel('False Positive Rate')\n",
    "    ylabel('True Positive Rate')\n",
    "    legend(loc=4)\n",
    "    plt.show()\n",
    "\n",
    "    #precision-recall curve\n",
    "    prec_gs, rc_gs, _ = metrics.precision_recall_curve(y_test,prob_gs)\n",
    "    pr_auc = metrics.auc(rc_gs,prec_gs)\n",
    "    figure()\n",
    "    title('Precision-Recall Curve')\n",
    "    plot(rc_gs,prec_gs,label='AUC=%0.2f' %pr_auc)\n",
    "    xlabel('Recall')\n",
    "    ylabel('Precision')\n",
    "    legend()\n",
    "    plt.show()"
   ]
  },
  {
   "cell_type": "code",
   "execution_count": 20,
   "metadata": {},
   "outputs": [
    {
     "name": "stdout",
     "output_type": "stream",
     "text": [
      "             precision    recall  f1-score   support\n",
      "\n",
      "          0       0.87      0.96      0.91       224\n",
      "          1       0.55      0.28      0.37        43\n",
      "\n",
      "avg / total       0.82      0.85      0.83       267\n",
      "\n",
      "             precision    recall  f1-score   support\n",
      "\n",
      "          0       0.87      0.95      0.91       224\n",
      "          1       0.52      0.28      0.36        43\n",
      "\n",
      "avg / total       0.82      0.84      0.82       267\n",
      "\n",
      "             precision    recall  f1-score   support\n",
      "\n",
      "          0       0.87      0.96      0.91       224\n",
      "          1       0.55      0.28      0.37        43\n",
      "\n",
      "avg / total       0.82      0.85      0.83       267\n",
      "\n",
      "             precision    recall  f1-score   support\n",
      "\n",
      "          0       0.87      0.96      0.91       224\n",
      "          1       0.55      0.26      0.35        43\n",
      "\n",
      "avg / total       0.82      0.85      0.82       267\n",
      "\n",
      "             precision    recall  f1-score   support\n",
      "\n",
      "          0       0.87      0.96      0.91       224\n",
      "          1       0.55      0.26      0.35        43\n",
      "\n",
      "avg / total       0.82      0.85      0.82       267\n",
      "\n"
     ]
    }
   ],
   "source": [
    "for cc in [1,3,5,7,10]:\n",
    "    lr = LogisticRegression(C=cc,random_state=0,penalty='l1')\n",
    "    lr.fit(X_train,y_train)\n",
    "    y_pred_lr = lr.predict(X_test)\n",
    "    print(metrics.classification_report(y_test,y_pred_lr))"
   ]
  },
  {
   "cell_type": "code",
   "execution_count": 23,
   "metadata": {},
   "outputs": [
    {
     "name": "stdout",
     "output_type": "stream",
     "text": [
      "classification report\n",
      "             precision    recall  f1-score   support\n",
      "\n",
      "          0       0.84      1.00      0.91       224\n",
      "          1       0.00      0.00      0.00        43\n",
      "\n",
      "avg / total       0.70      0.84      0.77       267\n",
      "\n"
     ]
    },
    {
     "name": "stderr",
     "output_type": "stream",
     "text": [
      "/Users/brittanyfuzia/anaconda2/lib/python2.7/site-packages/sklearn/metrics/classification.py:1135: UndefinedMetricWarning: Precision and F-score are ill-defined and being set to 0.0 in labels with no predicted samples.\n",
      "  'precision', 'predicted', average, warn_for)\n"
     ]
    },
    {
     "data": {
      "text/plain": [
       "<matplotlib.legend.Legend at 0x1a14ecb150>"
      ]
     },
     "execution_count": 23,
     "metadata": {},
     "output_type": "execute_result"
    },
    {
     "data": {
      "image/png": "[encoded data removed]",
      "text/plain": [
       "<matplotlib.figure.Figure at 0x111feaa90>"
      ]
     },
     "metadata": {},
     "output_type": "display_data"
    },
    {
     "data": {
      "image/png": "[encoded data removed]",
      "text/plain": [
       "<matplotlib.figure.Figure at 0x1a153b8250>"
      ]
     },
     "metadata": {},
     "output_type": "display_data"
    }
   ],
   "source": [
    "#evaluation of dummy model\n",
    "print('classification report')\n",
    "print(metrics.classification_report(y_test,ydpred))\n",
    "\n",
    "dprob = dummy.predict_proba(X_test)[:,1]\n",
    "fpr, tpr, _ = metrics.roc_curve(y_test,dprob)\n",
    "auc = metrics.roc_auc_score(y_test,dprob)\n",
    "figure()\n",
    "title('ROC Curve')\n",
    "plot(fpr,tpr,label='AUC=%0.2f' %auc)\n",
    "xlabel('False Positive Rate')\n",
    "ylabel('True Positive Rate')\n",
    "legend(loc=4)\n",
    "\n",
    "#precision-recall curve\n",
    "prec, rc, _ = metrics.precision_recall_curve(y_test,dprob)\n",
    "auc = metrics.auc(rc,prec)\n",
    "figure()\n",
    "title('Precision-Recall Curve')\n",
    "plot(rc,prec,label='AUC=%0.2f' %auc)\n",
    "xlabel('Recall')\n",
    "ylabel('Precision')\n",
    "legend()"
   ]
  },
  {
   "cell_type": "code",
   "execution_count": null,
   "metadata": {},
   "outputs": [],
   "source": []
  }
 ],
 "metadata": {
  "anaconda-cloud": {},
  "kernelspec": {
   "display_name": "Python 2",
   "language": "python",
   "name": "python2"
  },
  "language_info": {
   "codemirror_mode": {
    "name": "ipython",
    "version": 2
   },
   "file_extension": ".py",
   "mimetype": "text/x-python",
   "name": "python",
   "nbconvert_exporter": "python",
   "pygments_lexer": "ipython2",
   "version": "2.7.14"
  }
 },
 "nbformat": 4,
 "nbformat_minor": 2
}
